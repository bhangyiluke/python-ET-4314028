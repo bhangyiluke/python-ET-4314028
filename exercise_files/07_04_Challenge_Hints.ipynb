{
 "cells": [
  {
   "cell_type": "markdown",
   "id": "dda9c8c6",
   "metadata": {},
   "source": [
    "## Shaping Up"
   ]
  },
  {
   "cell_type": "markdown",
   "id": "f4a633c4",
   "metadata": {},
   "source": [
    "**Hint 1:** \n",
    "In the square class, the printRow function takes in an argument i, which is not used. What happens if you actually use this argument?"
   ]
  },
  {
   "cell_type": "markdown",
   "id": "0a4e8a12",
   "metadata": {},
   "source": [
    "**Hint 2:** Triangles are small at the top and big at the bottom! (Huge help, I know.) \n",
    "\n",
    "But think about it. How can you use the variable i to print out something small at the top and big at the bottom? Or, heck, make an upside-down triangle! Print out something big at the top and small at the bottom. "
   ]
  },
  {
   "cell_type": "code",
   "execution_count": 3,
   "id": "4d4279d4",
   "metadata": {},
   "outputs": [],
   "source": [
    "# Python code​​​​​​‌‌‌​​‌‌‌‌‌​‌‌‌​‌​‌‌​‌‌​​‌ below\n",
    "class Shape:\n",
    "\twidth = 5\n",
    "\theight = 5\n",
    "\tprintChar = '#'\n",
    "\n",
    "\tdef printRow(self, i):\n",
    "\t\traise NotImplementedError(\n",
    "\t\t\t\"Will be implemented by children extending this class\")\n",
    "\n",
    "\tdef print(self):\n",
    "\t\tfor i in range(self.height):\n",
    "\t\t\tself.printRow(i)\n",
    "\n",
    "\n",
    "class Square(Shape):\n",
    "\tdef printRow(self, i):\n",
    "\t\tprint(self.printChar * self.width)\n",
    "\n",
    "\n",
    "class Triangle(Shape):\n",
    "\tdef printRow(self, i):\n",
    "\t\t# print(i)\n",
    "\t\tprint(self.printChar * (self.width-i))"
   ]
  },
  {
   "cell_type": "markdown",
   "id": "b79c50cc",
   "metadata": {},
   "source": [
    "### Just printing right angled triangle is easy!\"\"\""
   ]
  },
  {
   "cell_type": "code",
   "execution_count": 4,
   "id": "8b92d93a",
   "metadata": {},
   "outputs": [],
   "source": [
    "class Triangle(Shape):\n",
    "\tdef printRow(self, i):\n",
    "\t\tprint(self.printChar * (1+i))"
   ]
  },
  {
   "cell_type": "markdown",
   "id": "a3d35c7c",
   "metadata": {},
   "source": [
    "### Printing a symetrical tritriangle is easy!\"\"\""
   ]
  },
  {
   "cell_type": "code",
   "execution_count": 6,
   "id": "a0847c0f",
   "metadata": {},
   "outputs": [],
   "source": [
    "class Triangle(Shape):\n",
    "    width = 2 * Shape.height\n",
    "    def printRow(self, i):\n",
    "        current_width = 2 * i + 1\n",
    "        padding = ' ' * int((self.width - current_width) / 2)\n",
    "        print(padding + self.printChar * current_width)"
   ]
  },
  {
   "cell_type": "code",
   "execution_count": 10,
   "id": "810bbf1b",
   "metadata": {},
   "outputs": [
    {
     "name": "stdout",
     "output_type": "stream",
     "text": [
      "    #\n",
      "   ###\n",
      "  #####\n",
      " #######\n",
      "#########\n"
     ]
    }
   ],
   "source": [
    "t = Triangle()\n",
    "# t.width = 10\n",
    "# <!-- t.width = 60 -->\n",
    "t.print()"
   ]
  },
  {
   "cell_type": "code",
   "execution_count": 6,
   "id": "099a599a",
   "metadata": {},
   "outputs": [
    {
     "name": "stdout",
     "output_type": "stream",
     "text": [
      "*\n",
      "**\n",
      "***\n",
      "****\n",
      "*****\n",
      "******\n",
      "*******\n",
      "********\n"
     ]
    }
   ],
   "source": [
    "def draw_right_triangle(rows):\n",
    "    \"\"\"\n",
    "    Draws a right-angled triangle of asterisks.\n",
    "\n",
    "    Args:\n",
    "        rows: The number of rows (height) of the triangle.\n",
    "    \"\"\"\n",
    "    for i in range(1, rows + 1):\n",
    "        print(\"*\" * i)\n",
    "\n",
    "\n",
    "# Example usage:\n",
    "draw_right_triangle(8)"
   ]
  }
 ],
 "metadata": {
  "kernelspec": {
   "display_name": "Python 3",
   "language": "python",
   "name": "python3"
  },
  "language_info": {
   "codemirror_mode": {
    "name": "ipython",
    "version": 3
   },
   "file_extension": ".py",
   "mimetype": "text/x-python",
   "name": "python",
   "nbconvert_exporter": "python",
   "pygments_lexer": "ipython3",
   "version": "3.11.14"
  }
 },
 "nbformat": 4,
 "nbformat_minor": 5
}
