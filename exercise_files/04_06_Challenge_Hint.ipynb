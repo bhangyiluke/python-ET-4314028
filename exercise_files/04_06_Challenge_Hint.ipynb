{
 "cells": [
  {
   "cell_type": "markdown",
   "id": "6a6c3649",
   "metadata": {},
   "source": [
    "## ASCII Art Encoding\n"
   ]
  },
  {
   "cell_type": "markdown",
   "id": "47490f41",
   "metadata": {},
   "source": [
    "### Challenge Hints!"
   ]
  },
  {
   "cell_type": "markdown",
   "id": "a8c64bd5",
   "metadata": {},
   "source": [
    "**Hint 1:** While iterating through each character of a string, we can print out when a string has \"switched\" from one character to another:"
   ]
  },
  {
   "cell_type": "code",
   "execution_count": 1,
   "id": "c3d70033",
   "metadata": {},
   "outputs": [
    {
     "name": "stdout",
     "output_type": "stream",
     "text": [
      "New character is A\n",
      "New character is B\n",
      "New character is C\n"
     ]
    }
   ],
   "source": [
    "stringVal = 'AAAAABBBBBCCCCC'\n",
    "\n",
    "prevChar = None\n",
    "for char in stringVal:\n",
    "    if char != prevChar:\n",
    "        print(f'New character is {char}')\n",
    "    prevChar = char"
   ]
  },
  {
   "cell_type": "markdown",
   "id": "54ce72f7",
   "metadata": {},
   "source": [
    "**Hint 2:** Remember that you can multiply a string by a number!"
   ]
  },
  {
   "cell_type": "code",
   "execution_count": 2,
   "id": "7ab4bd96",
   "metadata": {},
   "outputs": [
    {
     "data": {
      "text/plain": [
       "'AAAAA'"
      ]
     },
     "execution_count": 2,
     "metadata": {},
     "output_type": "execute_result"
    }
   ],
   "source": [
    "'A'*5"
   ]
  },
  {
   "cell_type": "code",
   "execution_count": 3,
   "id": "7777d38e",
   "metadata": {},
   "outputs": [],
   "source": [
    "def encodeString(stringVal):\n",
    "    pass\n",
    "\n",
    "def decodeString(encodedList):\n",
    "    pass"
   ]
  },
  {
   "cell_type": "code",
   "execution_count": 51,
   "id": "c55e767e",
   "metadata": {},
   "outputs": [],
   "source": [
    "# Python code​​​​​​‌‌‌​​‌‌‌‌​‌‌​‌‌‌‌​‌​‌​​‌​ below\n",
    "from itertools import groupby\n",
    "\n",
    "\n",
    "def encodeString(stringVal):\n",
    "    # Your code goes here.\n",
    "    # prevChar = None\n",
    "    results = []\n",
    "    for char, group in groupby(stringVal):\n",
    "        # The 'group' is an iterator, so sum(1 for _ in group) counts its elements\n",
    "        results.append((char, sum(1 for _ in group)))\n",
    "    return results\n",
    "\n",
    "\n",
    "def encodeString2(stringVal):\n",
    "    # Your code goes here.\n",
    "    prevChar = stringVal[0]\n",
    "    count = 0\n",
    "    results = []\n",
    "    for char in stringVal:\n",
    "        # The 'group' is an iterator, so sum(1 for _ in group) counts its elements\n",
    "        if char != prevChar:\n",
    "            # Save the previous character and its count\n",
    "            results.append((prevChar, count))\n",
    "            count = 1\n",
    "            prevChar = char\n",
    "        else: count += 1\n",
    "    # Append the last character and its count\n",
    "    results.append((prevChar, count))\n",
    "    return results\n",
    "\n",
    "\n",
    "def decodeString(encodedList):\n",
    "    # Your code goes here.\n",
    "    return ''.join([f'{key * val}' for key, val in encodedList])\n",
    "    # pass"
   ]
  },
  {
   "cell_type": "code",
   "execution_count": 52,
   "id": "3eee6256",
   "metadata": {},
   "outputs": [
    {
     "name": "stdout",
     "output_type": "stream",
     "text": [
      "Encoded string: [('T', 1), ('A', 5), ('B', 2), ('C', 1), ('D', 3), ('#', 2), ('3', 2)]\n",
      "Decoded string: TAAAAABBCDDD##33\n"
     ]
    }
   ],
   "source": [
    "encodedString = encodeString2('TAAAAABBCDDD##33')\n",
    "print(f'Encoded string: {encodedString}')\n",
    "decodedString = decodeString(encodedString)\n",
    "print(f'Decoded string: {decodedString}')"
   ]
  },
  {
   "cell_type": "code",
   "execution_count": null,
   "id": "5cf87d54",
   "metadata": {},
   "outputs": [],
   "source": [
    "art = '''\n",
    "\n",
    "                                                                                \n",
    "                                                                                \n",
    "                               %%%%%%%%%%%%%%%%%%%                              \n",
    "                        %%%%%%%%%%%%%%%%%%%%%%%%%%%%%%%%%                       \n",
    "                    %%%%%%%%                         %%%%%%%%                   \n",
    "                %%%%%%%                                   %%%%%%                \n",
    "              %%%%%%                                         %%%%%%             \n",
    "           %%%%%%                                               %%%%%           \n",
    "          %%%%%                                                   %%%%%         \n",
    "        %%%%%                                                       %%%%%       \n",
    "       %%%%                 %%%%%              %%%%%                  %%%%      \n",
    "      %%%%                 %%%%%%%            %%%%%%%                  %%%%     \n",
    "     %%%%                  %%%%%%%            %%%%%%%                   %%%%    \n",
    "    %%%%                   %%%%%%%            %%%%%%%                    %%%%   \n",
    "    %%%%                    %%%%%              %%%%%                     %%%%   \n",
    "   %%%%                                                                   %%%%  \n",
    "   %%%%                                                                   %%%%  \n",
    "   %%%%                                                                   %%%%  \n",
    "   %%%%                                                      %%%%        %%%%   \n",
    "    %%%%       %%%%%%                                        %%%%%       %%%%   \n",
    "    %%%%         %%%%                                       %%%%        %%%%    \n",
    "     %%%%         %%%%                                     %%%%         %%%%    \n",
    "      %%%%         %%%%%                                  %%%%         %%%%     \n",
    "       %%%%%         %%%%%                             %%%%%         %%%%%      \n",
    "        %%%%%          %%%%%%                        %%%%%          %%%%        \n",
    "          %%%%%           %%%%%%%               %%%%%%%           %%%%%         \n",
    "            %%%%%             %%%%%%%%%%%%%%%%%%%%%             %%%%%           \n",
    "              %%%%%%%                                        %%%%%              \n",
    "                 %%%%%%%                                 %%%%%%%                \n",
    "                     %%%%%%%%%                     %%%%%%%%%                    \n",
    "                          %%%%%%%%%%%%%%%%%%%%%%%%%%%%%                         \n",
    "                                   %%%%%%%%%%%%                                 \n",
    "                                                                                \n",
    "                                                                                 \n",
    "\n",
    "'''"
   ]
  },
  {
   "cell_type": "code",
   "execution_count": 49,
   "id": "dec27033",
   "metadata": {},
   "outputs": [
    {
     "name": "stdout",
     "output_type": "stream",
     "text": [
      "[('\\n', 4), (' ', 31), ('%', 19), (' ', 30), ('\\n', 1), (' ', 24), ('%', 33), (' ', 23), ('\\n', 1), (' ', 20), ('%', 8), (' ', 25), ('%', 8), (' ', 19), ('\\n', 1), (' ', 16), ('%', 7), (' ', 35), ('%', 6), (' ', 16), ('\\n', 1), (' ', 14), ('%', 6), (' ', 41), ('%', 6), (' ', 13), ('\\n', 1), (' ', 11), ('%', 6), (' ', 47), ('%', 5), (' ', 11), ('\\n', 1), (' ', 10), ('%', 5), (' ', 51), ('%', 5), (' ', 9), ('\\n', 1), (' ', 8), ('%', 5), (' ', 55), ('%', 5), (' ', 7), ('\\n', 1), (' ', 7), ('%', 4), (' ', 17), ('%', 5), (' ', 14), ('%', 5), (' ', 18), ('%', 4), (' ', 6), ('\\n', 1), (' ', 6), ('%', 4), (' ', 17), ('%', 7), (' ', 12), ('%', 7), (' ', 18), ('%', 4), (' ', 5), ('\\n', 1), (' ', 5), ('%', 4), (' ', 18), ('%', 7), (' ', 12), ('%', 7), (' ', 19), ('%', 4), (' ', 4), ('\\n', 1), (' ', 4), ('%', 4), (' ', 19), ('%', 7), (' ', 12), ('%', 7), (' ', 20), ('%', 4), (' ', 3), ('\\n', 1), (' ', 4), ('%', 4), (' ', 20), ('%', 5), (' ', 14), ('%', 5), (' ', 21), ('%', 4), (' ', 3), ('\\n', 1), (' ', 3), ('%', 4), (' ', 67), ('%', 4), (' ', 2), ('\\n', 1), (' ', 3), ('%', 4), (' ', 67), ('%', 4), (' ', 2), ('\\n', 1), (' ', 3), ('%', 4), (' ', 67), ('%', 4), (' ', 2), ('\\n', 1), (' ', 3), ('%', 4), (' ', 54), ('%', 4), (' ', 8), ('%', 4), (' ', 3), ('\\n', 1), (' ', 4), ('%', 4), (' ', 7), ('%', 6), (' ', 40), ('%', 5), (' ', 7), ('%', 4), (' ', 3), ('\\n', 1), (' ', 4), ('%', 4), (' ', 9), ('%', 4), (' ', 39), ('%', 4), (' ', 8), ('%', 4), (' ', 4), ('\\n', 1), (' ', 5), ('%', 4), (' ', 9), ('%', 4), (' ', 37), ('%', 4), (' ', 9), ('%', 4), (' ', 4), ('\\n', 1), (' ', 6), ('%', 4), (' ', 9), ('%', 5), (' ', 34), ('%', 4), (' ', 9), ('%', 4), (' ', 5), ('\\n', 1), (' ', 7), ('%', 5), (' ', 9), ('%', 5), (' ', 29), ('%', 5), (' ', 9), ('%', 5), (' ', 6), ('\\n', 1), (' ', 8), ('%', 5), (' ', 10), ('%', 6), (' ', 24), ('%', 5), (' ', 10), ('%', 4), (' ', 8), ('\\n', 1), (' ', 10), ('%', 5), (' ', 11), ('%', 7), (' ', 15), ('%', 7), (' ', 11), ('%', 5), (' ', 9), ('\\n', 1), (' ', 12), ('%', 5), (' ', 13), ('%', 21), (' ', 13), ('%', 5), (' ', 11), ('\\n', 1), (' ', 14), ('%', 7), (' ', 40), ('%', 5), (' ', 14), ('\\n', 1), (' ', 17), ('%', 7), (' ', 33), ('%', 7), (' ', 16), ('\\n', 1), (' ', 21), ('%', 9), (' ', 21), ('%', 9), (' ', 20), ('\\n', 1), (' ', 26), ('%', 29), (' ', 25), ('\\n', 1), (' ', 35), ('%', 12), (' ', 33), ('\\n', 4)]\n"
     ]
    }
   ],
   "source": [
    "encodedString = encodeString2(art)\n",
    "print(encodedString)"
   ]
  },
  {
   "cell_type": "code",
   "execution_count": 50,
   "id": "942d4ff8",
   "metadata": {},
   "outputs": [
    {
     "data": {
      "text/plain": [
       "'\\n\\n\\n\\n                               %%%%%%%%%%%%%%%%%%%                              \\n                        %%%%%%%%%%%%%%%%%%%%%%%%%%%%%%%%%                       \\n                    %%%%%%%%                         %%%%%%%%                   \\n                %%%%%%%                                   %%%%%%                \\n              %%%%%%                                         %%%%%%             \\n           %%%%%%                                               %%%%%           \\n          %%%%%                                                   %%%%%         \\n        %%%%%                                                       %%%%%       \\n       %%%%                 %%%%%              %%%%%                  %%%%      \\n      %%%%                 %%%%%%%            %%%%%%%                  %%%%     \\n     %%%%                  %%%%%%%            %%%%%%%                   %%%%    \\n    %%%%                   %%%%%%%            %%%%%%%                    %%%%   \\n    %%%%                    %%%%%              %%%%%                     %%%%   \\n   %%%%                                                                   %%%%  \\n   %%%%                                                                   %%%%  \\n   %%%%                                                                   %%%%  \\n   %%%%                                                      %%%%        %%%%   \\n    %%%%       %%%%%%                                        %%%%%       %%%%   \\n    %%%%         %%%%                                       %%%%        %%%%    \\n     %%%%         %%%%                                     %%%%         %%%%    \\n      %%%%         %%%%%                                  %%%%         %%%%     \\n       %%%%%         %%%%%                             %%%%%         %%%%%      \\n        %%%%%          %%%%%%                        %%%%%          %%%%        \\n          %%%%%           %%%%%%%               %%%%%%%           %%%%%         \\n            %%%%%             %%%%%%%%%%%%%%%%%%%%%             %%%%%           \\n              %%%%%%%                                        %%%%%              \\n                 %%%%%%%                                 %%%%%%%                \\n                     %%%%%%%%%                     %%%%%%%%%                    \\n                          %%%%%%%%%%%%%%%%%%%%%%%%%%%%%                         \\n                                   %%%%%%%%%%%%                                 \\n\\n\\n\\n'"
      ]
     },
     "execution_count": 50,
     "metadata": {},
     "output_type": "execute_result"
    }
   ],
   "source": [
    "decodeString(encodedString)"
   ]
  },
  {
   "cell_type": "markdown",
   "id": "8eeb5b00",
   "metadata": {},
   "source": [
    "'\\n\\n\\n\\n                               %%%%%%%%%%%%%%%%%%%                              \\n                        %%%%%%%%%%%%%%%%%%%%%%%%%%%%%%%%%                       \\n                    %%%%%%%%                         %%%%%%%%                   \\n                %%%%%%%                                   %%%%%%                \\n              %%%%%%                                         %%%%%%             \\n           %%%%%%                                               %%%%%           \\n          %%%%%                                                   %%%%%         \\n        %%%%%                                                       %%%%%       \\n       %%%%                 %%%%%              %%%%%                  %%%%      \\n      %%%%                 %%%%%%%            %%%%%%%                  %%%%     \\n     %%%%                  %%%%%%%            %%%%%%%                   %%%%    \\n    %%%%                   %%%%%%%            %%%%%%%                    %%%%   \\n    %%%%                    %%%%%              %%%%%                     %%%%   \\n   %%%%                                                                   %%%%  \\n   %%%%                                                                   %%%%  \\n   %%%%                                                                   %%%%  \\n   %%%%                                                      %%%%        %%%%   \\n    %%%%       %%%%%%                                        %%%%%       %%%%   \\n    %%%%         %%%%                                       %%%%        %%%%    \\n     %%%%         %%%%                                     %%%%         %%%%    \\n      %%%%         %%%%%                                  %%%%         %%%%     \\n       %%%%%         %%%%%                             %%%%%         %%%%%      \\n        %%%%%          %%%%%%                        %%%%%          %%%%        \\n          %%%%%           %%%%%%%               %%%%%%%           %%%%%         \\n            %%%%%             %%%%%%%%%%%%%%%%%%%%%             %%%%%           \\n              %%%%%%%                                        %%%%%              \\n                 %%%%%%%                                 %%%%%%%                \\n                     %%%%%%%%%                     %%%%%%%%%                    \\n                          %%%%%%%%%%%%%%%%%%%%%%%%%%%%%                         \\n                                   %%%%%%%%%%%%                                 \\n\\n\\n\\n'"
   ]
  },
  {
   "cell_type": "code",
   "execution_count": 20,
   "id": "e1485f53",
   "metadata": {},
   "outputs": [
    {
     "name": "stdout",
     "output_type": "stream",
     "text": [
      "{1: ['i', 'a'], '2': ['we', 'be', 'it'], 3: ['are', 'few', 'too']}\n"
     ]
    }
   ],
   "source": [
    "values = [[1, 'i', 'a'], ['2', 'we', 'be', 'it'], [3, 'are', 'few', 'too']]\n",
    "result = {sublist[0]: sublist[1:] for sublist in values}\n",
    "print(result)\n",
    "# {\n",
    "#     1: ['i', 'a'],\n",
    "#     2: ['we', 'be', 'it'],\n",
    "#     3: ['are', 'few', 'too']\n",
    "# }"
   ]
  },
  {
   "cell_type": "code",
   "execution_count": 22,
   "id": "dc1f8698",
   "metadata": {},
   "outputs": [
    {
     "name": "stdout",
     "output_type": "stream",
     "text": [
      "[100, 95, 90, 85, 80, 75, 70, 65, 60, 55, 50, 45, 40, 35, 30, 25, 20, 15, 10, 5, 0]\n"
     ]
    }
   ],
   "source": [
    "myList = list(range(101))\n",
    "print(myList[::-5])\n",
    "# [0, 1, 2, 3, 4, 5, 6, 7, 8, 9, 10, 11, 12, 13, 14, 15, 16, 17, 18, 19, 20, 21, 22, 23, 24, "
   ]
  }
 ],
 "metadata": {
  "kernelspec": {
   "display_name": "Python 3",
   "language": "python",
   "name": "python3"
  },
  "language_info": {
   "codemirror_mode": {
    "name": "ipython",
    "version": 3
   },
   "file_extension": ".py",
   "mimetype": "text/x-python",
   "name": "python",
   "nbconvert_exporter": "python",
   "pygments_lexer": "ipython3",
   "version": "3.11.14"
  }
 },
 "nbformat": 4,
 "nbformat_minor": 5
}
