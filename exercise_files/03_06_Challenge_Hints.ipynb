{
 "cells": [
  {
   "cell_type": "markdown",
   "id": "5cd90a72",
   "metadata": {},
   "source": [
    "## Converting Hexadecimal to Decimal\n"
   ]
  },
  {
   "cell_type": "code",
   "execution_count": null,
   "id": "6f856dbf-cb3b-46f6-974c-2183088fc2eb",
   "metadata": {},
   "outputs": [],
   "source": []
  },
  {
   "cell_type": "markdown",
   "id": "b204bc4e",
   "metadata": {},
   "source": [
    "### Challenge Hints!"
   ]
  },
  {
   "cell_type": "markdown",
   "id": "41ca3358",
   "metadata": {},
   "source": [
    "**Hint 1:** The following will convert 'ABC' into a decimal:\n"
   ]
  },
  {
   "cell_type": "code",
   "execution_count": 2,
   "id": "31190f4a",
   "metadata": {},
   "outputs": [
    {
     "data": {
      "text/plain": [
       "2748"
      ]
     },
     "execution_count": 2,
     "metadata": {},
     "output_type": "execute_result"
    }
   ],
   "source": [
    "hexNumbers = {\n",
    "    '0': 0, '1': 1, '2': 2, '3': 3, '4': 4, '5': 5, '6': 6, '7': 7, '8': 8, '9': 9,\n",
    "    'A': 10, 'B': 11, 'C': 12, 'D': 13, 'E': 14, 'F': 15\n",
    "}\n",
    "\n",
    "hexNumbers['A'] * 256 + hexNumbers['B'] * 16 + hexNumbers['C'] "
   ]
  },
  {
   "cell_type": "markdown",
   "id": "61a884ee",
   "metadata": {},
   "source": [
    "**Hint 2:** You can check to see how long the hex string is with:"
   ]
  },
  {
   "cell_type": "code",
   "execution_count": 4,
   "id": "7f4a3877",
   "metadata": {},
   "outputs": [
    {
     "data": {
      "text/plain": [
       "2"
      ]
     },
     "execution_count": 4,
     "metadata": {},
     "output_type": "execute_result"
    }
   ],
   "source": [
    "hexNum = '1B'\n",
    "len(hexNum)"
   ]
  },
  {
   "cell_type": "markdown",
   "id": "2893d9ef",
   "metadata": {},
   "source": [
    "**Hint 3:** You can get the character at each position of a string like this:"
   ]
  },
  {
   "cell_type": "code",
   "execution_count": 5,
   "id": "a9cb3333",
   "metadata": {},
   "outputs": [
    {
     "name": "stdout",
     "output_type": "stream",
     "text": [
      "A\n",
      "B\n",
      "C\n"
     ]
    }
   ],
   "source": [
    "hexNum = 'ABC'\n",
    "print(hexNum[0])\n",
    "print(hexNum[1])\n",
    "print(hexNum[2])\n"
   ]
  },
  {
   "cell_type": "code",
   "execution_count": 2,
   "id": "cfc54187",
   "metadata": {},
   "outputs": [],
   "source": [
    "hexNumbers = {\n",
    "    '0': 0, '1': 1, '2': 2, '3': 3, '4': 4, '5': 5, '6': 6, '7': 7, '8': 8, '9': 9,\n",
    "    'A': 10, 'B': 11, 'C': 12, 'D': 13, 'E': 14, 'F': 15\n",
    "}\n",
    "\n",
    "# Converts a string hexadecimal number into an integer decimal\n",
    "# If hexNum is not a valid hexadecimal number, returns None\n",
    "def hexToDec(hexNum):\n",
    "    pass"
   ]
  },
  {
   "cell_type": "markdown",
   "id": "db14e41c-81f1-4897-8bde-cd4855060fba",
   "metadata": {},
   "source": [
    "**Hint 4**: You can tell if every character in a string is a hex character like this:\n",
    "\n"
   ]
  },
  {
   "cell_type": "code",
   "execution_count": 2,
   "id": "6d4c987e-3b52-4679-9ae6-ce3115fd5fa9",
   "metadata": {},
   "outputs": [
    {
     "ename": "NameError",
     "evalue": "name 'hexNumbers' is not defined",
     "output_type": "error",
     "traceback": [
      "\u001b[31m---------------------------------------------------------------------------\u001b[39m",
      "\u001b[31mNameError\u001b[39m                                 Traceback (most recent call last)",
      "\u001b[36mCell\u001b[39m\u001b[36m \u001b[39m\u001b[32mIn[2]\u001b[39m\u001b[32m, line 3\u001b[39m\n\u001b[32m      1\u001b[39m myString = \u001b[33m'\u001b[39m\u001b[33mABCZ\u001b[39m\u001b[33m'\u001b[39m\n\u001b[32m      2\u001b[39m \u001b[38;5;28;01mfor\u001b[39;00m char \u001b[38;5;129;01min\u001b[39;00m myString:\n\u001b[32m----> \u001b[39m\u001b[32m3\u001b[39m     \u001b[38;5;28;01mif\u001b[39;00m char \u001b[38;5;129;01mnot\u001b[39;00m \u001b[38;5;129;01min\u001b[39;00m \u001b[43mhexNumbers\u001b[49m:\n\u001b[32m      4\u001b[39m         \u001b[38;5;28mprint\u001b[39m(\u001b[33mf\u001b[39m\u001b[33m'\u001b[39m\u001b[38;5;132;01m{\u001b[39;00mchar\u001b[38;5;132;01m}\u001b[39;00m\u001b[33m is not a hex character!\u001b[39m\u001b[33m'\u001b[39m)\n",
      "\u001b[31mNameError\u001b[39m: name 'hexNumbers' is not defined"
     ]
    }
   ],
   "source": [
    "myString = 'ABCZ'\n",
    "for char in myString:\n",
    "    if char not in hexNumbers:\n",
    "        print(f'{char} is not a hex character!')"
   ]
  },
  {
   "cell_type": "code",
   "execution_count": null,
   "id": "3ae60510-e28e-48cb-a4a7-de383931faa6",
   "metadata": {},
   "outputs": [
    {
     "name": "stdout",
     "output_type": "stream",
     "text": [
      "Hexa number:- 1A3\n",
      "Multiple:-> 256\n",
      "Coefficient of 1:-> 1\n",
      "value: 256\n",
      "Multiple:-> 16\n",
      "Coefficient of A:-> 10\n",
      "value: 416\n",
      "Multiple:-> 1\n",
      "Coefficient of 3:-> 3\n",
      "value: 419\n",
      "Hexa number:- 3C0\n",
      "Multiple:-> 256\n",
      "Coefficient of 3:-> 3\n",
      "value: 768\n",
      "Multiple:-> 16\n",
      "Coefficient of C:-> 12\n",
      "value: 960\n",
      "Multiple:-> 1\n",
      "Coefficient of 0:-> 0\n",
      "value: 960\n",
      "Hexa number:- 123456789ABCDEF\n",
      "Multiple:-> 72057594037927936\n",
      "Coefficient of 1:-> 1\n",
      "value: 72057594037927936\n",
      "Multiple:-> 4503599627370496\n",
      "Coefficient of 2:-> 2\n",
      "value: 81064793292668928\n",
      "Multiple:-> 281474976710656\n",
      "Coefficient of 3:-> 3\n",
      "value: 81909218222800896\n",
      "Multiple:-> 17592186044416\n",
      "Coefficient of 4:-> 4\n",
      "value: 81979586966978560\n",
      "Multiple:-> 1099511627776\n",
      "Coefficient of 5:-> 5\n",
      "value: 81985084525117440\n",
      "Multiple:-> 68719476736\n",
      "Coefficient of 6:-> 6\n",
      "value: 81985496841977856\n",
      "Multiple:-> 4294967296\n",
      "Coefficient of 7:-> 7\n",
      "value: 81985526906748928\n",
      "Multiple:-> 268435456\n",
      "Coefficient of 8:-> 8\n",
      "value: 81985529054232576\n",
      "Multiple:-> 16777216\n",
      "Coefficient of 9:-> 9\n",
      "value: 81985529205227520\n",
      "Multiple:-> 1048576\n",
      "Coefficient of A:-> 10\n",
      "value: 81985529215713280\n",
      "Multiple:-> 65536\n",
      "Coefficient of B:-> 11\n",
      "value: 81985529216434176\n",
      "Multiple:-> 4096\n",
      "Coefficient of C:-> 12\n",
      "value: 81985529216483328\n",
      "Multiple:-> 256\n",
      "Coefficient of D:-> 13\n",
      "value: 81985529216486656\n",
      "Multiple:-> 16\n",
      "Coefficient of E:-> 14\n",
      "value: 81985529216486880\n",
      "Multiple:-> 1\n",
      "Coefficient of F:-> 15\n",
      "value: 81985529216486895\n",
      "Hexa number:- 123456789ABCDEFGHIJKLMNOPQRSTUVWXYZ\n",
      "G is not a hex character!\n",
      "Hexa number:- 123456789ABCDEFGHIJKLMNOPQRSTUVWXYZ0123456789ABCDEFGHIJKLMNOPQRSTUVWXYZ\n",
      "G is not a hex character!\n",
      "Hexa number:- 123456789ABCDEF0123456789ABCDEF\n",
      "Multiple:-> 1329227995784915872903807060280344576\n",
      "Coefficient of 1:-> 1\n",
      "value: 1329227995784915872903807060280344576\n",
      "Multiple:-> 83076749736557242056487941267521536\n",
      "Coefficient of 2:-> 2\n",
      "value: 1495381495258030357016782942815387648\n",
      "Multiple:-> 5192296858534827628530496329220096\n",
      "Coefficient of 3:-> 3\n",
      "value: 1510958385833634839902374431803047936\n",
      "Multiple:-> 324518553658426726783156020576256\n",
      "Coefficient of 4:-> 4\n",
      "value: 1512256460048268546809507055885352960\n",
      "Multiple:-> 20282409603651670423947251286016\n",
      "Coefficient of 5:-> 5\n",
      "value: 1512357872096286805161626792141783040\n",
      "Multiple:-> 1267650600228229401496703205376\n",
      "Coefficient of 6:-> 6\n",
      "value: 1512365477999888174538035772361015296\n",
      "Multiple:-> 79228162514264337593543950336\n",
      "Coefficient of 7:-> 7\n",
      "value: 1512366032597025774388398927168667648\n",
      "Multiple:-> 4951760157141521099596496896\n",
      "Coefficient of 8:-> 8\n",
      "value: 1512366072211107031520567723940642816\n",
      "Multiple:-> 309485009821345068724781056\n",
      "Coefficient of 9:-> 9\n",
      "value: 1512366074996472119912673342463672320\n",
      "Multiple:-> 19342813113834066795298816\n",
      "Coefficient of A:-> 10\n",
      "value: 1512366075189900251051014010416660480\n",
      "Multiple:-> 1208925819614629174706176\n",
      "Coefficient of B:-> 11\n",
      "value: 1512366075203198435066774931338428416\n",
      "Multiple:-> 75557863725914323419136\n",
      "Coefficient of C:-> 12\n",
      "value: 1512366075204105129431485903219458048\n",
      "Multiple:-> 4722366482869645213696\n",
      "Coefficient of D:-> 13\n",
      "value: 1512366075204166520195763208607236096\n",
      "Multiple:-> 295147905179352825856\n",
      "Coefficient of E:-> 14\n",
      "value: 1512366075204170652266435719546798080\n",
      "Multiple:-> 18446744073709551616\n",
      "Coefficient of F:-> 15\n",
      "value: 1512366075204170928967596825190072320\n",
      "Multiple:-> 1152921504606846976\n",
      "Coefficient of 0:-> 0\n",
      "value: 1512366075204170928967596825190072320\n",
      "Multiple:-> 72057594037927936\n",
      "Coefficient of 1:-> 1\n",
      "value: 1512366075204170929039654419228000256\n",
      "Multiple:-> 4503599627370496\n",
      "Coefficient of 2:-> 2\n",
      "value: 1512366075204170929048661618482741248\n",
      "Multiple:-> 281474976710656\n",
      "Coefficient of 3:-> 3\n",
      "value: 1512366075204170929049506043412873216\n",
      "Multiple:-> 17592186044416\n",
      "Coefficient of 4:-> 4\n",
      "value: 1512366075204170929049576412157050880\n",
      "Multiple:-> 1099511627776\n",
      "Coefficient of 5:-> 5\n",
      "value: 1512366075204170929049581909715189760\n",
      "Multiple:-> 68719476736\n",
      "Coefficient of 6:-> 6\n",
      "value: 1512366075204170929049582322032050176\n",
      "Multiple:-> 4294967296\n",
      "Coefficient of 7:-> 7\n",
      "value: 1512366075204170929049582352096821248\n",
      "Multiple:-> 268435456\n",
      "Coefficient of 8:-> 8\n",
      "value: 1512366075204170929049582354244304896\n",
      "Multiple:-> 16777216\n",
      "Coefficient of 9:-> 9\n",
      "value: 1512366075204170929049582354395299840\n",
      "Multiple:-> 1048576\n",
      "Coefficient of A:-> 10\n",
      "value: 1512366075204170929049582354405785600\n",
      "Multiple:-> 65536\n",
      "Coefficient of B:-> 11\n",
      "value: 1512366075204170929049582354406506496\n",
      "Multiple:-> 4096\n",
      "Coefficient of C:-> 12\n",
      "value: 1512366075204170929049582354406555648\n",
      "Multiple:-> 256\n",
      "Coefficient of D:-> 13\n",
      "value: 1512366075204170929049582354406558976\n",
      "Multiple:-> 16\n",
      "Coefficient of E:-> 14\n",
      "value: 1512366075204170929049582354406559200\n",
      "Multiple:-> 1\n",
      "Coefficient of F:-> 15\n",
      "value: 1512366075204170929049582354406559215\n"
     ]
    },
    {
     "data": {
      "text/plain": [
       "1512366075204170929049582354406559215"
      ]
     },
     "execution_count": 5,
     "metadata": {},
     "output_type": "execute_result"
    }
   ],
   "source": [
    "# Python code​​​​​​‌‌‌​​‌‌‌‌​​‌‌‌‌‌‌‌‌‌​​​‌​ below\n",
    "hexNumbers = {\n",
    "    '0': 0, '1': 1, '2': 2, '3': 3, '4': 4, '5': 5, '6': 6, '7': 7, '8': 8, '9': 9,\n",
    "    'A': 10, 'B': 11, 'C': 12, 'D': 13, 'E': 14, 'F': 15\n",
    "}\n",
    "\n",
    "# Converts a string hexadecimal number into an integer decimal\n",
    "# If hexNum is not a valid hexadecimal number, returns None\n",
    "\n",
    "\n",
    "def hexToDec(hexNum):\n",
    "    print(F\"Hexa number:- {hexNum}\")\n",
    "    # Check if all are hex numbers\n",
    "    for char in hexNum:\n",
    "        if char not in hexNumbers:\n",
    "            print(f'{char} is not a hex character!')\n",
    "            return None\n",
    "    # if hexNumbers.get()\n",
    "    # print(hexNumbers[hexNum[0]])\n",
    "    val = 0\n",
    "    y = len(hexNum)-1\n",
    "    for x in hexNum:\n",
    "        val += hexNumbers[x] * (16**y)\n",
    "        y -= 1\n",
    "    return val\n",
    "\n",
    "hexToDec('1A3')\n",
    "hexToDec('3C0')\n",
    "hexToDec('123456789ABCDEF')\n",
    "hexToDec('123456789ABCDEFGHIJKLMNOPQRSTUVWXYZ')\n",
    "hexToDec('123456789ABCDEFGHIJKLMNOPQRSTUVWXYZ0123456789ABCDEFGHIJKLMNOPQRSTUVWXYZ')\n",
    "hexToDec('123456789ABCDEF0123456789ABCDEF')"
   ]
  }
 ],
 "metadata": {
  "kernelspec": {
   "display_name": "Python 3",
   "language": "python",
   "name": "python3"
  },
  "language_info": {
   "codemirror_mode": {
    "name": "ipython",
    "version": 3
   },
   "file_extension": ".py",
   "mimetype": "text/x-python",
   "name": "python",
   "nbconvert_exporter": "python",
   "pygments_lexer": "ipython3",
   "version": "3.11.14"
  }
 },
 "nbformat": 4,
 "nbformat_minor": 5
}
